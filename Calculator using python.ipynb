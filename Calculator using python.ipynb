{
 "cells": [
  {
   "cell_type": "markdown",
   "metadata": {},
   "source": [
    "Calculator using Python Programming\n"
   ]
  },
  {
   "cell_type": "code",
   "execution_count": 17,
   "metadata": {},
   "outputs": [
    {
     "name": "stdout",
     "output_type": "stream",
     "text": [
      "Please Select the operation - \n",
      "1.Addition\n",
      "2.Subtraction\n",
      "3.Multiplication\n",
      "4.Division\n",
      "\n",
      "85.0 * 95.0 = 8075.0\n"
     ]
    }
   ],
   "source": [
    "# This calculator performs various operations as mentioned below\n",
    "\n",
    "print(\"Please Select the operation - \\n\"\\\n",
    "      \"1.Addition\\n\"\n",
    "      \"2.Subtraction\\n\"\n",
    "      \"3.Multiplication\\n\"\n",
    "      \"4.Division\\n\")\n",
    "\n",
    "#Taking input from user\n",
    "n = int(input(\"Select the operation - 1,2,3,4\"))\n",
    "num1 = float(input(\"Enter the first number\"))\n",
    "num2 = float(input(\"Enter the second number\"))\n",
    "\n",
    "# Function to add two numbers\n",
    "def add(n1,n2):\n",
    "    return n1+n2\n",
    "\n",
    "# Function to subtract two numbers\n",
    "def sub(n1,n2):\n",
    "    return n1-n2\n",
    "\n",
    "# Function to multiply two numbers\n",
    "def multi(n1,n2):\n",
    "    return n1*n2\n",
    "# Function to divide two numbers\n",
    "def div(n1,n2):\n",
    "    return n1/n2\n",
    "\n",
    "if n==1:\n",
    "    print(num1,\"+\",num2,\"=\", add(num1,num2))\n",
    "elif n==2:\n",
    "    print(num1,\"-\",num2,\"=\", sub(num1,num2))\n",
    "elif n==3:\n",
    "    print(num1,\"*\",num2,\"=\", multi(num1,num2))\n",
    "elif n==4:\n",
    "    print(num1,\"/\",num2,\"=\", div(num1,num2))"
   ]
  }
 ],
 "metadata": {
  "kernelspec": {
   "display_name": "Python 3",
   "language": "python",
   "name": "python3"
  },
  "language_info": {
   "codemirror_mode": {
    "name": "ipython",
    "version": 3
   },
   "file_extension": ".py",
   "mimetype": "text/x-python",
   "name": "python",
   "nbconvert_exporter": "python",
   "pygments_lexer": "ipython3",
   "version": "3.11.0"
  }
 },
 "nbformat": 4,
 "nbformat_minor": 2
}
