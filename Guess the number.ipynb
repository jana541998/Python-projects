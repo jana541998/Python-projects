{
 "cells": [
  {
   "cell_type": "markdown",
   "metadata": {},
   "source": [
    "Guess the number!!"
   ]
  },
  {
   "cell_type": "code",
   "execution_count": 6,
   "metadata": {},
   "outputs": [
    {
     "name": "stdout",
     "output_type": "stream",
     "text": [
      "nope, sorry. try again!\n",
      "nope, sorry. try again!\n",
      "You have finished all 3 attempts\n"
     ]
    }
   ],
   "source": [
    "# By using while loop\n",
    "\n",
    "import random\n",
    "\n",
    "n1=int(input(\"Enter the first number of range\"))\n",
    "n2=int(input(\"Enter the last number of the range\"))\n",
    "\n",
    "num = random.randint(n1, n2)\n",
    "guess = None\n",
    "i = 0\n",
    "\n",
    "while guess != num and i<3:\n",
    "    guess = int(input(\"guess a number\"))\n",
    "    if guess == num:\n",
    "        print(\"congratulations! you won!\")\n",
    "        break\n",
    "    elif i<2:\n",
    "        print(\"nope, sorry. try again!\")\n",
    "    i+=1\n",
    "else:\n",
    "   print(\"You have finished all 3 attempts\")"
   ]
  },
  {
   "cell_type": "code",
   "execution_count": 14,
   "metadata": {},
   "outputs": [
    {
     "name": "stdout",
     "output_type": "stream",
     "text": [
      "nope, sorry try again\n",
      "nope, sorry try again\n",
      "You have used all the 3 attempts\n"
     ]
    }
   ],
   "source": [
    "# By using For loop\n",
    "\n",
    "import random\n",
    "\n",
    "n1=int(input(\"Enter the first number of range\"))\n",
    "n2=int(input(\"Enter the last number of the range\"))\n",
    "\n",
    "num = random.randint(n1, n2)\n",
    "guess = None\n",
    "i = 0\n",
    "\n",
    "for i in range(0,3):\n",
    "    guess = int(input(\"guess a number\"))\n",
    "    if guess == num:\n",
    "        print(\"congratulations! you won!\")\n",
    "        break\n",
    "    elif i<2:\n",
    "        print(\"nope, sorry try again\")\n",
    "    else:\n",
    "        print(\"You have used all the 3 attempts\")\n",
    "\n"
   ]
  }
 ],
 "metadata": {
  "kernelspec": {
   "display_name": "Python 3",
   "language": "python",
   "name": "python3"
  },
  "language_info": {
   "codemirror_mode": {
    "name": "ipython",
    "version": 3
   },
   "file_extension": ".py",
   "mimetype": "text/x-python",
   "name": "python",
   "nbconvert_exporter": "python",
   "pygments_lexer": "ipython3",
   "version": "3.11.0"
  }
 },
 "nbformat": 4,
 "nbformat_minor": 2
}
